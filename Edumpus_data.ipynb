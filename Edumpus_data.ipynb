{
  "nbformat": 4,
  "nbformat_minor": 0,
  "metadata": {
    "colab": {
      "provenance": [],
      "authorship_tag": "ABX9TyMtjkepYuu+eVozw5hFyPHd",
      "include_colab_link": true
    },
    "kernelspec": {
      "name": "python3",
      "display_name": "Python 3"
    },
    "language_info": {
      "name": "python"
    }
  },
  "cells": [
    {
      "cell_type": "markdown",
      "metadata": {
        "id": "view-in-github",
        "colab_type": "text"
      },
      "source": [
        "<a href=\"https://colab.research.google.com/github/DeeraDigiSpoc/DeeraDigiSpoc/blob/main/Edumpus_data.ipynb\" target=\"_parent\"><img src=\"https://colab.research.google.com/assets/colab-badge.svg\" alt=\"Open In Colab\"/></a>"
      ]
    },
    {
      "cell_type": "code",
      "execution_count": null,
      "metadata": {
        "id": "5RsAbapRYXBt"
      },
      "outputs": [],
      "source": [
        "import os\n",
        "import csv"
      ]
    },
    {
      "cell_type": "code",
      "source": [
        "from google.colab import drive\n",
        "drive.mount('/content/drive')"
      ],
      "metadata": {
        "colab": {
          "base_uri": "https://localhost:8080/"
        },
        "id": "unZayOXcYcew",
        "outputId": "552a4281-69e2-4873-dae3-b661369c1843"
      },
      "execution_count": null,
      "outputs": [
        {
          "output_type": "stream",
          "name": "stdout",
          "text": [
            "Mounted at /content/drive\n"
          ]
        }
      ]
    },
    {
      "cell_type": "code",
      "source": [
        "folder_path = '/content/drive/MyDrive/Edumpus Data'"
      ],
      "metadata": {
        "id": "RCRvpuYqZkQf"
      },
      "execution_count": null,
      "outputs": []
    },
    {
      "cell_type": "code",
      "source": [
        "file_names = os.listdir(folder_path)\n",
        "file_names"
      ],
      "metadata": {
        "colab": {
          "base_uri": "https://localhost:8080/"
        },
        "id": "YFh9jn-2ZnN9",
        "outputId": "a921449b-3e4e-405d-b9c9-71293189e22e"
      },
      "execution_count": null,
      "outputs": [
        {
          "output_type": "execute_result",
          "data": {
            "text/plain": [
              "['blog_media.csv',\n",
              " 'course_home_scholarship_mapping.csv',\n",
              " 'course_substream.csv',\n",
              " 'search_keywords.csv',\n",
              " 'oauth_auth_codes.csv',\n",
              " 'partner_cell_mapping.csv',\n",
              " 'oauth_refresh_tokens.csv',\n",
              " 'uni_alumni.csv',\n",
              " 'top_courses.csv',\n",
              " 'accomodation_type.csv',\n",
              " 'accomodation_master.csv',\n",
              " 'admission_process_master.csv',\n",
              " 'admin_login_module.csv',\n",
              " 'accomodation_detail.csv',\n",
              " 'application_activity_log.csv',\n",
              " 'application_course_comments.csv',\n",
              " 'application_status.csv',\n",
              " 'application_status_log.csv',\n",
              " 'applied_course.csv',\n",
              " 'associate_commission_transactions.csv',\n",
              " 'badge_master.csv',\n",
              " 'badge_partner_mapping.csv',\n",
              " 'associate_commission_status.csv',\n",
              " 'blog_comments.csv',\n",
              " 'applied_course_document.csv',\n",
              " 'blog_categories.csv',\n",
              " 'associate_names.csv',\n",
              " 'associate_commission_mapping.csv',\n",
              " 'associate_user_details.csv',\n",
              " 'ca_commission_transactions.csv',\n",
              " 'ca_university_commission_mapping.csv',\n",
              " 'campus_ambassador.csv',\n",
              " 'city_master.csv',\n",
              " 'careers.csv',\n",
              " 'blog_tags.csv',\n",
              " 'blog_masters.csv',\n",
              " 'comment_notifications.csv',\n",
              " 'country_master.csv',\n",
              " 'commission_status.csv',\n",
              " 'contacts.csv',\n",
              " 'commission_notes.csv',\n",
              " 'course_affiliation.csv',\n",
              " 'course_activity_log.csv',\n",
              " 'course_affiliation_mapping.csv',\n",
              " 'course_eligibility.csv',\n",
              " 'course_document_mapping.csv',\n",
              " 'course_duration_type.csv',\n",
              " 'course_eligibility_mapping.csv',\n",
              " 'course_entrance_mapping.csv',\n",
              " 'course_fees_mapping.csv',\n",
              " 'course_home_fees_mapping.csv',\n",
              " 'course_intake_mapping.csv',\n",
              " 'course_nature.csv',\n",
              " 'course_master.csv',\n",
              " 'course_qc_master.csv',\n",
              " 'course_qc_detail.csv',\n",
              " 'course_specialization.csv',\n",
              " 'course_scholarship_mapping.csv',\n",
              " 'course_tags.csv',\n",
              " 'course_specialization_mapping.csv',\n",
              " 'course_stream.csv',\n",
              " 'course_term.csv',\n",
              " 'course_tags_mapping.csv',\n",
              " 'course_type.csv',\n",
              " 'education_landing_page.csv',\n",
              " 'education_institutions.csv',\n",
              " 'education_boards.csv',\n",
              " 'education_landing_india.csv',\n",
              " 'document_master.csv',\n",
              " 'edumpus_documents.csv',\n",
              " 'edumpus_document_mapping.csv',\n",
              " 'emporium_course_category.csv',\n",
              " 'enquiry.csv',\n",
              " 'emporium_course.csv',\n",
              " 'emporium.csv',\n",
              " 'entrance_master.csv',\n",
              " 'featured_course.csv',\n",
              " 'fee_header.csv',\n",
              " 'favourite_university.csv',\n",
              " 'follow_stream.csv',\n",
              " 'featured_university.csv',\n",
              " 'favourite_course.csv',\n",
              " 'institutions.csv',\n",
              " 'intake_master.csv',\n",
              " 'ielts_edumpus.csv',\n",
              " 'follow_university.csv',\n",
              " 'follow_student.csv',\n",
              " 'institution_terms_conditions.csv',\n",
              " 'job_application_status.csv',\n",
              " 'message_master.csv',\n",
              " 'keyword_mapping.csv',\n",
              " 'lets_talk.csv',\n",
              " 'news.csv',\n",
              " 'job_applications.csv',\n",
              " 'migrations.csv',\n",
              " 'message_details.csv',\n",
              " 'oauth_access_tokens.csv',\n",
              " 'partner_sop_mapping.csv',\n",
              " 'partner_ire_mapping.csv',\n",
              " 'partner_commission_transactions.csv',\n",
              " 'oauth_clients.csv',\n",
              " 'partner_sales_mapping.csv',\n",
              " 'partner_details.csv',\n",
              " 'oauth_personal_access_clients.csv',\n",
              " 'partner_advisor_mapping.csv',\n",
              " 'partner_staff_mapping.csv',\n",
              " 'post_report_reasons.csv',\n",
              " 'role_master.csv',\n",
              " 'post_reports.csv',\n",
              " 'scholarship_status.csv',\n",
              " 'scholarship.csv',\n",
              " 'placement_companies.csv',\n",
              " 'review.csv',\n",
              " 'scholarship_header.csv',\n",
              " 'post_comment_like.csv',\n",
              " 'role_privilege_mapping.csv',\n",
              " 'posts.csv',\n",
              " 'password_resets.csv',\n",
              " 'press_release.csv',\n",
              " 'post_like.csv',\n",
              " 'privilege_master.csv',\n",
              " 'post_comment.csv',\n",
              " 'settings.csv',\n",
              " 'search_history.csv',\n",
              " 'statistics_privilage.csv',\n",
              " 'state_master.csv',\n",
              " 'staff_allotment.csv',\n",
              " 'staff_hierarchy.csv',\n",
              " 'statistics_role_mapping.csv',\n",
              " 'service_template.csv',\n",
              " 'student_achievement_mapping.csv',\n",
              " 'sessions.csv',\n",
              " 'student_club_mapping.csv',\n",
              " 'student_details.csv',\n",
              " 'student_education_mapping.csv',\n",
              " 'subscriptions.csv',\n",
              " 'student_work_mapping.csv',\n",
              " 'uinversityrole_privilage_mapping.csv',\n",
              " 'uni_affiliation_master.csv',\n",
              " 'uni_activity_log.csv',\n",
              " 'uni_facilities.csv',\n",
              " 'uni_coverphoto.csv',\n",
              " 'uni_faculty.csv',\n",
              " 'uni_rank_master.csv',\n",
              " 'university_accomodation_mapping.csv',\n",
              " 'uni_media_details.csv',\n",
              " 'uni_qc_master.csv',\n",
              " 'university_commission_mapping.csv',\n",
              " 'university_affiliation_mapping.csv',\n",
              " 'university_facility_mapping.csv',\n",
              " 'uni_qc_detail.csv',\n",
              " 'university_master.csv',\n",
              " 'university_tags_mapping.csv',\n",
              " 'university_placement_mapping.csv',\n",
              " 'university_type.csv',\n",
              " 'university_rank_mapping.csv',\n",
              " 'university_privilages.csv',\n",
              " 'university_tags.csv',\n",
              " 'user_activity_log.csv',\n",
              " 'users.csv',\n",
              " 'visa_template.csv']"
            ]
          },
          "metadata": {},
          "execution_count": 5
        }
      ]
    },
    {
      "cell_type": "code",
      "source": [
        "# Export file names to a CSV file\n",
        "csv_file_path = '/content/drive/MyDrive/Edumpus Data/table_files.csv'"
      ],
      "metadata": {
        "id": "9hETpRlnaJUE"
      },
      "execution_count": null,
      "outputs": []
    },
    {
      "cell_type": "code",
      "source": [
        "with open(csv_file_path, 'w', newline='') as csvfile:\n",
        "    file_writer = csv.writer(csvfile)\n",
        "    file_writer.writerow(['File Names'])\n",
        "    file_writer.writerows([[file_name] for file_name in file_names])\n",
        "\n",
        "print(f\"File names exported to: {csv_file_path}\")"
      ],
      "metadata": {
        "colab": {
          "base_uri": "https://localhost:8080/"
        },
        "id": "HbMDcNIjZt8q",
        "outputId": "d5b35356-7d6f-4b42-a226-9288e22d8222"
      },
      "execution_count": null,
      "outputs": [
        {
          "output_type": "stream",
          "name": "stdout",
          "text": [
            "File names exported to: /content/drive/MyDrive/Edumpus Data/table_files.csv\n"
          ]
        }
      ]
    },
    {
      "cell_type": "code",
      "source": [
        "# Print the file names\n",
        "print(\"Files in the folder:\")\n",
        "for file_name in file_names:\n",
        "    print(file_name)\n"
      ],
      "metadata": {
        "id": "RhiGDeYnZrX9"
      },
      "execution_count": null,
      "outputs": []
    },
    {
      "cell_type": "code",
      "source": [
        "# Get file names in a folder\n",
        "def get_file_names(drive, folder_id):\n",
        "    file_list = drive.ListFile({'q': f\"'{folder_id}' in parents and trashed=false\"}).GetList()\n",
        "    return [file['title'] for file in file_list]\n"
      ],
      "metadata": {
        "id": "G0Ipb1wTYdXG"
      },
      "execution_count": null,
      "outputs": []
    },
    {
      "cell_type": "code",
      "source": [
        "# Print file names\n",
        "def print_file_names(file_names):\n",
        "    for name in file_names:\n",
        "        print(name)\n"
      ],
      "metadata": {
        "id": "88Y8K41kZIK4"
      },
      "execution_count": null,
      "outputs": []
    },
    {
      "cell_type": "code",
      "source": [
        "# Export file names as CSV\n",
        "def export_to_csv(file_names, output_file):\n",
        "    with open(output_file, 'w', newline='') as csvfile:\n",
        "        writer = csv.writer(csvfile)\n",
        "        writer.writerow(['File Names'])\n",
        "        for name in file_names:\n",
        "            writer.writerow([name])\n"
      ],
      "metadata": {
        "id": "MikwPMPmZMnU"
      },
      "execution_count": null,
      "outputs": []
    },
    {
      "cell_type": "code",
      "source": [
        "def main():\n",
        "    folder_id = 'YOUR_FOLDER_ID_HERE'  # Replace with the ID of your Google Drive folder\n",
        "    drive = authenticate_drive()\n",
        "    file_names = get_file_names(drive, folder_id)\n",
        "\n",
        "    print(\"File Names:\")\n",
        "    print_file_names(file_names)\n",
        "\n",
        "    output_file = 'file_names.csv'\n",
        "    export_to_csv(file_names, output_file)\n",
        "    print(f\"\\nFile names exported to {output_file}\")\n",
        "\n"
      ],
      "metadata": {
        "id": "dX3uL8PfZRyT"
      },
      "execution_count": null,
      "outputs": []
    },
    {
      "cell_type": "code",
      "source": [
        "if __name__ == \"__main__\":\n",
        "    main()"
      ],
      "metadata": {
        "id": "HQj_3tL8ZUhJ"
      },
      "execution_count": null,
      "outputs": []
    }
  ]
}